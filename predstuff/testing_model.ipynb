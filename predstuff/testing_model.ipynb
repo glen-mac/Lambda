{
 "cells": [
  {
   "cell_type": "code",
   "execution_count": 9,
   "metadata": {
    "collapsed": true
   },
   "outputs": [],
   "source": [
    "import pickle \n",
    "import numpy as np\n",
    "\n",
    "\n",
    "reg = pickle.load(open(\"reg_baseline.p\", \"rb\"))\n",
    "def predict(reg, features):\n",
    "    \"\"\"\n",
    "    IN: \n",
    "    reg: sklearn prediction model (pickle file)\n",
    "    features: feature column vector\n",
    "    \n",
    "    features should be a numpy array or list with following format:\n",
    "         'Gender', 'age_range', \n",
    "         'Partner_status', 'Region', \n",
    "         'Taxable_Income', 'Sw_amt', \n",
    "         'Alow_ben_amt', 'ETP_txbl_amt', \n",
    "         'Grs_int_amt', 'Aust_govt_pnsn_allw_amt',\n",
    "         'Unfranked_Div_amt','Frk_Div_amt',\n",
    "         'Dividends_franking_cr_amt', 'Net_rent_amt',\n",
    "         'Gross_rent_amt', 'Other_rent_ded_amt',\n",
    "         'Rent_int_ded_amt', 'Rent_cap_wks_amt',\n",
    "         'Net_farm_management_amt','Net_PP_BI_amt',\n",
    "         'Net_NPP_BI_amt','Total_PP_BI_amt',\n",
    "         'Total_NPP_BI_amt','Total_PP_BE_amt',\n",
    "         'Total_NPP_BE_amt','Net_CG_amt',\n",
    "         'Tot_CY_CG_amt','Net_PT_PP_dsn',\n",
    "         'Net_PT_NPP_dsn','Taxed_othr_pnsn_amt',\n",
    "         'Untaxed_othr_pnsn_amt','Other_foreign_inc_amt',\n",
    "         'Other_inc_amt','Tot_inc_amt', 'Occ_code'\n",
    "         \n",
    "         \n",
    "    OUT: float of predicted tax deduction\n",
    "    \"\"\"\n",
    "    reg_predict = reg.predict(features)\n",
    "    return reg_predict[0]\n",
    "\n"
   ]
  },
  {
   "cell_type": "code",
   "execution_count": 10,
   "metadata": {
    "collapsed": false
   },
   "outputs": [
    {
     "name": "stdout",
     "output_type": "stream",
     "text": [
      "338.316235883\n"
     ]
    },
    {
     "name": "stderr",
     "output_type": "stream",
     "text": [
      "/Users/yan/anaconda/lib/python2.7/site-packages/sklearn/utils/validation.py:386: DeprecationWarning: Passing 1d arrays as data is deprecated in 0.17 and willraise ValueError in 0.19. Reshape your data either using X.reshape(-1, 1) if your data has a single feature or X.reshape(1, -1) if it contains a single sample.\n",
      "  DeprecationWarning)\n"
     ]
    }
   ],
   "source": [
    "print predict(reg, np.random.random_sample((35,)))\n"
   ]
  },
  {
   "cell_type": "code",
   "execution_count": null,
   "metadata": {
    "collapsed": true
   },
   "outputs": [],
   "source": []
  },
  {
   "cell_type": "code",
   "execution_count": null,
   "metadata": {
    "collapsed": true
   },
   "outputs": [],
   "source": []
  }
 ],
 "metadata": {
  "kernelspec": {
   "display_name": "Python 2",
   "language": "python",
   "name": "python2"
  },
  "language_info": {
   "codemirror_mode": {
    "name": "ipython",
    "version": 2
   },
   "file_extension": ".py",
   "mimetype": "text/x-python",
   "name": "python",
   "nbconvert_exporter": "python",
   "pygments_lexer": "ipython2",
   "version": "2.7.12"
  }
 },
 "nbformat": 4,
 "nbformat_minor": 0
}
