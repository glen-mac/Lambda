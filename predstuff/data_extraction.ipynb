{
 "cells": [
  {
   "cell_type": "code",
   "execution_count": 86,
   "metadata": {
    "collapsed": false
   },
   "outputs": [
    {
     "name": "stdout",
     "output_type": "stream",
     "text": [
      "['/Users/yan/Documents/govhack/data/Allyearssamplefile/all_data/2003-04.txt', '/Users/yan/Documents/govhack/data/Allyearssamplefile/all_data/2004-05.txt', '/Users/yan/Documents/govhack/data/Allyearssamplefile/all_data/2005-06.txt', '/Users/yan/Documents/govhack/data/Allyearssamplefile/all_data/2008-09.txt', '/Users/yan/Documents/govhack/data/Allyearssamplefile/all_data/2009-10.txt', '/Users/yan/Documents/govhack/data/Allyearssamplefile/all_data/2010-11.txt', '/Users/yan/Documents/govhack/data/Allyearssamplefile/all_data/2011-12.txt', '/Users/yan/Documents/govhack/data/Allyearssamplefile/all_data/2012-13.txt', '/Users/yan/Documents/govhack/data/Allyearssamplefile/all_data/2013-14.txt', '/Users/yan/Documents/govhack/data/Allyearssamplefile/all_data/2014-15.txt', '/Users/yan/Documents/govhack/data/Allyearssamplefile/all_data/wtf.txt']\n"
     ]
    }
   ],
   "source": [
    "import os\n",
    "import glob\n",
    "import pandas as pd\n",
    "import numpy as np\n",
    "import pickle\n",
    "\n",
    "import matplotlib\n",
    "import matplotlib.pyplot as plt\n",
    "%matplotlib inline\n",
    "\n",
    "\n",
    "path = \"/Users/yan/Documents/govhack/data/Allyearssamplefile/all_data\"\n",
    "\n",
    "all_files = glob.glob(os.path.join(path,\"*.txt\"))\n",
    "\n",
    "print all_files\n",
    "from math import sqrt"
   ]
  },
  {
   "cell_type": "markdown",
   "metadata": {},
   "source": [
    "# 1.0 Misc functions"
   ]
  },
  {
   "cell_type": "code",
   "execution_count": 87,
   "metadata": {
    "collapsed": true
   },
   "outputs": [],
   "source": [
    "from sklearn.linear_model import Ridge\n",
    "from sklearn.preprocessing import PolynomialFeatures, StandardScaler \n",
    "from sklearn.cross_validation import train_test_split\n",
    "from sklearn.metrics import mean_squared_error\n",
    "\n",
    "def train_test_measure_reg(df, model, l_col, f_cols, scale_f=False, poly_f=False, picklize=False):\n",
    "    \"\"\"\n",
    "    In: df        - DataFrame object that we want to learn from\n",
    "        model     - sklearn ML object\n",
    "        l_col     - label column name\n",
    "        f_cols    - list of feature column names\n",
    "        \n",
    "    Out: tuple of mse and pred-true pairing DataFrame\n",
    "    \"\"\"\n",
    "    \n",
    "    X = df[f_cols].values\n",
    "    y = df[l_col].tolist()\n",
    "    \n",
    "    X_train, X_test, y_train, y_test = \\\n",
    "    train_test_split(X, y, test_size=0.7, random_state=42)\n",
    "    \n",
    "    \n",
    "    if poly_f:\n",
    "        X_train, X_test = _transform(X_train, X_test, PolynomialFeatures())\n",
    "        \n",
    "    if scale_f:\n",
    "        X_train, X_test = _transform(X_train, X_test, StandardScaler())\n",
    "        \n",
    "    reg = model\n",
    "    reg.fit(X_train, y_train)\n",
    "    \n",
    "    if picklize:\n",
    "        pickle.dump(reg, open(\"reg_baseline.p\", \"wb\"))\n",
    "        \n",
    "    \n",
    "    pred = reg.predict(X_test)\n",
    "    \n",
    "    \n",
    "    pred_df = pd.DataFrame(data = {'pred': pred, 'true': y_test}, columns = ['pred', 'true'])\n",
    "    mse = mean_squared_error(y_test, pred)\n",
    "    return sqrt(mse), pred_df\n",
    "\n",
    "\n",
    "def _transform(X_train, X_test, transformer):\n",
    "    tr = transformer.fit(X_train)\n",
    "    \n",
    "    X_train = tr.transform(X_train)\n",
    "    X_test = tr.transform(X_test)\n",
    "    \n",
    "    return X_train, X_test "
   ]
  },
  {
   "cell_type": "code",
   "execution_count": 59,
   "metadata": {
    "collapsed": false
   },
   "outputs": [],
   "source": [
    "df_list = []\n",
    "for file_ in all_files:\n",
    "    #print len(df), file_\n",
    "    df = pd.read_csv(file_, index_col=None, header=0)\n",
    "    df_list.append(df)\n",
    "\n",
    "#df_list"
   ]
  },
  {
   "cell_type": "code",
   "execution_count": 58,
   "metadata": {
    "collapsed": false
   },
   "outputs": [],
   "source": [
    "df_col_vals = list(df_list[0].columns.values)\n",
    "\n",
    "crap_files = []\n",
    "good_files = []\n",
    "\n",
    "for df in df_list:\n",
    "    #print len(df)\n",
    "    if df_col_vals != list(df.columns.values):\n",
    "        real_df_col_vals = set(df_col_vals)\n",
    "        this_df_col_vals = set(df.columns.values)\n",
    "    \n",
    "        #print \"{len(real_df_col_vals.difference(this_df_col_vals))}\".format(len(real_df_col_vals.difference(this_df_col_vals)))\n",
    "        #print \"{len(real_df_col_vals.difference(this_df_col_vals))}\".format(len(real_df_col_vals.difference(this_df_col_vals)))\n",
    "        #print \"len: {}\\nunion: {}\\n\".format(len(real_df_col_vals.union(this_df_col_vals)), real_df_col_vals.union(this_df_col_vals))"
   ]
  },
  {
   "cell_type": "code",
   "execution_count": 42,
   "metadata": {
    "collapsed": false
   },
   "outputs": [],
   "source": [
    "cols = ['NPP_loss_claimed', 'Taxed_othr_pnsn_amt', 'Net_rent_amt', 'Marital_status', 'Untaxed_othr_pnsn_amt', 'Othr_pnsn_amt', 'Grs_int_amt', 'PHI_Ind', 'Tot_inc_amt', 'WRE_other_amt', 'Tot_CY_CG_amt', 'Sw_amt', 'Total_PP_BE_amt', 'Gift_amt', 'Region', 'Taxable_Income', 'Net_NPP_BI_amt', 'Other_rent_ded_amt', 'HECS_accum_ind', 'Net_PT_NPP_dsn', 'Alow_ben_amt', 'Ind', 'Total_NPP_BI_amt', 'Lodgment_method', 'Net_CG_amt', 'Aust_govt_pnsn_allw_amt', 'Total_NPP_BE_amt', 'WRE_self_amt', 'Frk_Div_amt', 'Int_Div_ded_amt', 'Occ_code', 'WRE_trvl_amt', 'Other_inc_amt', 'Net_PT_PP_dsn', 'Rep_frng_ben_amt', 'Rent_cap_wks_amt', 'Gender', 'Other_foreign_inc_amt', 'Gross_rent_amt', 'WRE_uniform_amt', 'Total_PP_BI_amt', 'Birth_year', 'Other_Ded_amt', 'Net_PP_BI_amt', 'Tot_ded_amt', 'Non_emp_spr_amt', 'WRE_car_amt', 'Rent_int_ded_amt', 'Med_Exp_TO_amt', 'Cost_tax_affairs_amt', 'PP_loss_claimed']"
   ]
  },
  {
   "cell_type": "code",
   "execution_count": 51,
   "metadata": {
    "collapsed": true
   },
   "outputs": [],
   "source": [
    "fname = \"/Users/yan/Documents/govhack/data/Allyearssamplefile/all_data/2014-15.txt\"\n",
    "df_2015 = pd.read_csv(fname, index_col=None, header=0)\n",
    "#df = pd.read_csv(file_, index_col=None, header=0)"
   ]
  },
  {
   "cell_type": "code",
   "execution_count": 91,
   "metadata": {
    "collapsed": false
   },
   "outputs": [
    {
     "name": "stdout",
     "output_type": "stream",
     "text": [
      "3759.95977734\n"
     ]
    }
   ],
   "source": [
    "#df_2015_filtered = df_2015[cols]\n",
    "\n",
    "#print df_2015.head()\n",
    "fcols = ['Gender', 'age_range', \n",
    "         'Partner_status', 'Region', \n",
    "         'Taxable_Income', 'Sw_amt', \n",
    "         'Alow_ben_amt', 'ETP_txbl_amt', \n",
    "         'Grs_int_amt', 'Aust_govt_pnsn_allw_amt',\n",
    "         'Unfranked_Div_amt','Frk_Div_amt',\n",
    "         'Dividends_franking_cr_amt', 'Net_rent_amt',\n",
    "         'Gross_rent_amt', 'Other_rent_ded_amt',\n",
    "         'Rent_int_ded_amt', 'Rent_cap_wks_amt',\n",
    "         'Net_farm_management_amt','Net_PP_BI_amt',\n",
    "         'Net_NPP_BI_amt','Total_PP_BI_amt',\n",
    "         'Total_NPP_BI_amt','Total_PP_BE_amt',\n",
    "         'Total_NPP_BE_amt','Net_CG_amt',\n",
    "         'Tot_CY_CG_amt','Net_PT_PP_dsn',\n",
    "         'Net_PT_NPP_dsn','Taxed_othr_pnsn_amt',\n",
    "         'Untaxed_othr_pnsn_amt','Other_foreign_inc_amt',\n",
    "         'Other_inc_amt','Tot_inc_amt', 'Occ_code']\n",
    "\n",
    "extra = 'Occ_code', 'Lodgment_method', 'PHI_Ind'\n",
    "\n",
    "\n",
    "\n",
    "\n",
    "label = 'Tot_ded_amt'\n",
    "model = Ridge()\n",
    "\n",
    "mse, pred_df_base = train_test_measure_reg(df_2015, model, label, fcols, scale_f=False, poly_f=False, picklize=True)\n",
    "print mse"
   ]
  },
  {
   "cell_type": "code",
   "execution_count": 85,
   "metadata": {
    "collapsed": false
   },
   "outputs": [
    {
     "ename": "ValueError",
     "evalue": "scatter requires and x and y column",
     "output_type": "error",
     "traceback": [
      "\u001b[0;31m---------------------------------------------------------------------------\u001b[0m",
      "\u001b[0;31mValueError\u001b[0m                                Traceback (most recent call last)",
      "\u001b[0;32m<ipython-input-85-c87cf07a27c5>\u001b[0m in \u001b[0;36m<module>\u001b[0;34m()\u001b[0m\n\u001b[0;32m----> 1\u001b[0;31m \u001b[0mpred_df_base\u001b[0m\u001b[0;34m.\u001b[0m\u001b[0mplot\u001b[0m\u001b[0;34m(\u001b[0m\u001b[0mkind\u001b[0m\u001b[0;34m=\u001b[0m\u001b[0;34m'scatter'\u001b[0m\u001b[0;34m)\u001b[0m\u001b[0;34m\u001b[0m\u001b[0m\n\u001b[0m",
      "\u001b[0;32m/Users/yan/anaconda/lib/python2.7/site-packages/pandas/tools/plotting.pyc\u001b[0m in \u001b[0;36m__call__\u001b[0;34m(self, x, y, kind, ax, subplots, sharex, sharey, layout, figsize, use_index, title, grid, legend, style, logx, logy, loglog, xticks, yticks, xlim, ylim, rot, fontsize, colormap, table, yerr, xerr, secondary_y, sort_columns, **kwds)\u001b[0m\n\u001b[1;32m   3735\u001b[0m                           \u001b[0mfontsize\u001b[0m\u001b[0;34m=\u001b[0m\u001b[0mfontsize\u001b[0m\u001b[0;34m,\u001b[0m \u001b[0mcolormap\u001b[0m\u001b[0;34m=\u001b[0m\u001b[0mcolormap\u001b[0m\u001b[0;34m,\u001b[0m \u001b[0mtable\u001b[0m\u001b[0;34m=\u001b[0m\u001b[0mtable\u001b[0m\u001b[0;34m,\u001b[0m\u001b[0;34m\u001b[0m\u001b[0m\n\u001b[1;32m   3736\u001b[0m                           \u001b[0myerr\u001b[0m\u001b[0;34m=\u001b[0m\u001b[0myerr\u001b[0m\u001b[0;34m,\u001b[0m \u001b[0mxerr\u001b[0m\u001b[0;34m=\u001b[0m\u001b[0mxerr\u001b[0m\u001b[0;34m,\u001b[0m \u001b[0msecondary_y\u001b[0m\u001b[0;34m=\u001b[0m\u001b[0msecondary_y\u001b[0m\u001b[0;34m,\u001b[0m\u001b[0;34m\u001b[0m\u001b[0m\n\u001b[0;32m-> 3737\u001b[0;31m                           sort_columns=sort_columns, **kwds)\n\u001b[0m\u001b[1;32m   3738\u001b[0m     \u001b[0m__call__\u001b[0m\u001b[0;34m.\u001b[0m\u001b[0m__doc__\u001b[0m \u001b[0;34m=\u001b[0m \u001b[0mplot_frame\u001b[0m\u001b[0;34m.\u001b[0m\u001b[0m__doc__\u001b[0m\u001b[0;34m\u001b[0m\u001b[0m\n\u001b[1;32m   3739\u001b[0m \u001b[0;34m\u001b[0m\u001b[0m\n",
      "\u001b[0;32m/Users/yan/anaconda/lib/python2.7/site-packages/pandas/tools/plotting.pyc\u001b[0m in \u001b[0;36mplot_frame\u001b[0;34m(data, x, y, kind, ax, subplots, sharex, sharey, layout, figsize, use_index, title, grid, legend, style, logx, logy, loglog, xticks, yticks, xlim, ylim, rot, fontsize, colormap, table, yerr, xerr, secondary_y, sort_columns, **kwds)\u001b[0m\n\u001b[1;32m   2609\u001b[0m                  \u001b[0myerr\u001b[0m\u001b[0;34m=\u001b[0m\u001b[0myerr\u001b[0m\u001b[0;34m,\u001b[0m \u001b[0mxerr\u001b[0m\u001b[0;34m=\u001b[0m\u001b[0mxerr\u001b[0m\u001b[0;34m,\u001b[0m\u001b[0;34m\u001b[0m\u001b[0m\n\u001b[1;32m   2610\u001b[0m                  \u001b[0msecondary_y\u001b[0m\u001b[0;34m=\u001b[0m\u001b[0msecondary_y\u001b[0m\u001b[0;34m,\u001b[0m \u001b[0msort_columns\u001b[0m\u001b[0;34m=\u001b[0m\u001b[0msort_columns\u001b[0m\u001b[0;34m,\u001b[0m\u001b[0;34m\u001b[0m\u001b[0m\n\u001b[0;32m-> 2611\u001b[0;31m                  **kwds)\n\u001b[0m\u001b[1;32m   2612\u001b[0m \u001b[0;34m\u001b[0m\u001b[0m\n\u001b[1;32m   2613\u001b[0m \u001b[0;34m\u001b[0m\u001b[0m\n",
      "\u001b[0;32m/Users/yan/anaconda/lib/python2.7/site-packages/pandas/tools/plotting.pyc\u001b[0m in \u001b[0;36m_plot\u001b[0;34m(data, x, y, subplots, ax, kind, **kwds)\u001b[0m\n\u001b[1;32m   2394\u001b[0m         \u001b[0;32mif\u001b[0m \u001b[0misinstance\u001b[0m\u001b[0;34m(\u001b[0m\u001b[0mdata\u001b[0m\u001b[0;34m,\u001b[0m \u001b[0mDataFrame\u001b[0m\u001b[0;34m)\u001b[0m\u001b[0;34m:\u001b[0m\u001b[0;34m\u001b[0m\u001b[0m\n\u001b[1;32m   2395\u001b[0m             plot_obj = klass(data, x=x, y=y, subplots=subplots, ax=ax,\n\u001b[0;32m-> 2396\u001b[0;31m                              kind=kind, **kwds)\n\u001b[0m\u001b[1;32m   2397\u001b[0m         \u001b[0;32melse\u001b[0m\u001b[0;34m:\u001b[0m\u001b[0;34m\u001b[0m\u001b[0m\n\u001b[1;32m   2398\u001b[0m             raise ValueError(\"plot kind %r can only be used for data frames\"\n",
      "\u001b[0;32m/Users/yan/anaconda/lib/python2.7/site-packages/pandas/tools/plotting.pyc\u001b[0m in \u001b[0;36m__init__\u001b[0;34m(self, data, x, y, s, c, **kwargs)\u001b[0m\n\u001b[1;32m   1562\u001b[0m             \u001b[0;31m# the handling of this argument later\u001b[0m\u001b[0;34m\u001b[0m\u001b[0;34m\u001b[0m\u001b[0m\n\u001b[1;32m   1563\u001b[0m             \u001b[0ms\u001b[0m \u001b[0;34m=\u001b[0m \u001b[0;36m20\u001b[0m\u001b[0;34m\u001b[0m\u001b[0m\n\u001b[0;32m-> 1564\u001b[0;31m         \u001b[0msuper\u001b[0m\u001b[0;34m(\u001b[0m\u001b[0mScatterPlot\u001b[0m\u001b[0;34m,\u001b[0m \u001b[0mself\u001b[0m\u001b[0;34m)\u001b[0m\u001b[0;34m.\u001b[0m\u001b[0m__init__\u001b[0m\u001b[0;34m(\u001b[0m\u001b[0mdata\u001b[0m\u001b[0;34m,\u001b[0m \u001b[0mx\u001b[0m\u001b[0;34m,\u001b[0m \u001b[0my\u001b[0m\u001b[0;34m,\u001b[0m \u001b[0ms\u001b[0m\u001b[0;34m=\u001b[0m\u001b[0ms\u001b[0m\u001b[0;34m,\u001b[0m \u001b[0;34m**\u001b[0m\u001b[0mkwargs\u001b[0m\u001b[0;34m)\u001b[0m\u001b[0;34m\u001b[0m\u001b[0m\n\u001b[0m\u001b[1;32m   1565\u001b[0m         \u001b[0;32mif\u001b[0m \u001b[0mcom\u001b[0m\u001b[0;34m.\u001b[0m\u001b[0mis_integer\u001b[0m\u001b[0;34m(\u001b[0m\u001b[0mc\u001b[0m\u001b[0;34m)\u001b[0m \u001b[0;32mand\u001b[0m \u001b[0;32mnot\u001b[0m \u001b[0mself\u001b[0m\u001b[0;34m.\u001b[0m\u001b[0mdata\u001b[0m\u001b[0;34m.\u001b[0m\u001b[0mcolumns\u001b[0m\u001b[0;34m.\u001b[0m\u001b[0mholds_integer\u001b[0m\u001b[0;34m(\u001b[0m\u001b[0;34m)\u001b[0m\u001b[0;34m:\u001b[0m\u001b[0;34m\u001b[0m\u001b[0m\n\u001b[1;32m   1566\u001b[0m             \u001b[0mc\u001b[0m \u001b[0;34m=\u001b[0m \u001b[0mself\u001b[0m\u001b[0;34m.\u001b[0m\u001b[0mdata\u001b[0m\u001b[0;34m.\u001b[0m\u001b[0mcolumns\u001b[0m\u001b[0;34m[\u001b[0m\u001b[0mc\u001b[0m\u001b[0;34m]\u001b[0m\u001b[0;34m\u001b[0m\u001b[0m\n",
      "\u001b[0;32m/Users/yan/anaconda/lib/python2.7/site-packages/pandas/tools/plotting.pyc\u001b[0m in \u001b[0;36m__init__\u001b[0;34m(self, data, x, y, **kwargs)\u001b[0m\n\u001b[1;32m   1536\u001b[0m         \u001b[0mMPLPlot\u001b[0m\u001b[0;34m.\u001b[0m\u001b[0m__init__\u001b[0m\u001b[0;34m(\u001b[0m\u001b[0mself\u001b[0m\u001b[0;34m,\u001b[0m \u001b[0mdata\u001b[0m\u001b[0;34m,\u001b[0m \u001b[0;34m**\u001b[0m\u001b[0mkwargs\u001b[0m\u001b[0;34m)\u001b[0m\u001b[0;34m\u001b[0m\u001b[0m\n\u001b[1;32m   1537\u001b[0m         \u001b[0;32mif\u001b[0m \u001b[0mx\u001b[0m \u001b[0;32mis\u001b[0m \u001b[0mNone\u001b[0m \u001b[0;32mor\u001b[0m \u001b[0my\u001b[0m \u001b[0;32mis\u001b[0m \u001b[0mNone\u001b[0m\u001b[0;34m:\u001b[0m\u001b[0;34m\u001b[0m\u001b[0m\n\u001b[0;32m-> 1538\u001b[0;31m             \u001b[0;32mraise\u001b[0m \u001b[0mValueError\u001b[0m\u001b[0;34m(\u001b[0m\u001b[0mself\u001b[0m\u001b[0;34m.\u001b[0m\u001b[0m_kind\u001b[0m \u001b[0;34m+\u001b[0m \u001b[0;34m' requires and x and y column'\u001b[0m\u001b[0;34m)\u001b[0m\u001b[0;34m\u001b[0m\u001b[0m\n\u001b[0m\u001b[1;32m   1539\u001b[0m         \u001b[0;32mif\u001b[0m \u001b[0mcom\u001b[0m\u001b[0;34m.\u001b[0m\u001b[0mis_integer\u001b[0m\u001b[0;34m(\u001b[0m\u001b[0mx\u001b[0m\u001b[0;34m)\u001b[0m \u001b[0;32mand\u001b[0m \u001b[0;32mnot\u001b[0m \u001b[0mself\u001b[0m\u001b[0;34m.\u001b[0m\u001b[0mdata\u001b[0m\u001b[0;34m.\u001b[0m\u001b[0mcolumns\u001b[0m\u001b[0;34m.\u001b[0m\u001b[0mholds_integer\u001b[0m\u001b[0;34m(\u001b[0m\u001b[0;34m)\u001b[0m\u001b[0;34m:\u001b[0m\u001b[0;34m\u001b[0m\u001b[0m\n\u001b[1;32m   1540\u001b[0m             \u001b[0mx\u001b[0m \u001b[0;34m=\u001b[0m \u001b[0mself\u001b[0m\u001b[0;34m.\u001b[0m\u001b[0mdata\u001b[0m\u001b[0;34m.\u001b[0m\u001b[0mcolumns\u001b[0m\u001b[0;34m[\u001b[0m\u001b[0mx\u001b[0m\u001b[0;34m]\u001b[0m\u001b[0;34m\u001b[0m\u001b[0m\n",
      "\u001b[0;31mValueError\u001b[0m: scatter requires and x and y column"
     ]
    }
   ],
   "source": [
    "pred_df_base.plot(kind='scatter')"
   ]
  },
  {
   "cell_type": "code",
   "execution_count": null,
   "metadata": {
    "collapsed": true
   },
   "outputs": [],
   "source": [
    "\n",
    "s = pickle.dumps(clf)\n",
    "clf2 = pickle.loads(s)\n",
    "clf2.predict(X[0:1])\n",
    "\n",
    "pickle.dump(favorite_color, open( \"save.p\", \"wb\" ))"
   ]
  }
 ],
 "metadata": {
  "kernelspec": {
   "display_name": "Python 2",
   "language": "python",
   "name": "python2"
  },
  "language_info": {
   "codemirror_mode": {
    "name": "ipython",
    "version": 2
   },
   "file_extension": ".py",
   "mimetype": "text/x-python",
   "name": "python",
   "nbconvert_exporter": "python",
   "pygments_lexer": "ipython2",
   "version": "2.7.12"
  }
 },
 "nbformat": 4,
 "nbformat_minor": 0
}
